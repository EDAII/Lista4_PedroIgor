{
 "cells": [
  {
   "cell_type": "code",
   "execution_count": 46,
   "metadata": {},
   "outputs": [
    {
     "name": "stdout",
     "output_type": "stream",
     "text": [
      "[98, 9, 37, 6, 8, 5, 3, 2, 0, 1, 7, 4]\n",
      "[37, 9, 5, 6, 8, 4, 3, 2, 0, 1, 7]\n",
      "[9, 8, 5, 6, 7, 4, 3, 2, 0, 1]\n",
      "[8, 7, 5, 6, 1, 4, 3, 2, 0]\n",
      "[7, 6, 5, 2, 1, 4, 3, 0]\n",
      "[6, 2, 5, 0, 1, 4, 3]\n",
      "[5, 2, 4, 0, 1, 3]\n",
      "[4, 2, 3, 0, 1]\n",
      "[3, 2, 1, 0]\n",
      "[2, 0, 1]\n",
      "[1, 0]\n"
     ]
    },
    {
     "data": {
      "text/plain": [
       "[0, 1, 2, 3, 4, 5, 6, 7, 8, 9, 37, 98]"
      ]
     },
     "execution_count": 46,
     "metadata": {},
     "output_type": "execute_result"
    }
   ],
   "source": [
    "def build_max_heap(lista):\n",
    "    #print('lista:')\n",
    "    ##print(lista)\n",
    "    i = 1\n",
    "    change = False\n",
    "    while i < len(lista):\n",
    "        pos = i-1\n",
    "        if i*2 < len(lista) and (i*2)-1<len(lista):\n",
    "            #print('comp: pai = '+str(lista[pos])+'filhos: '+str(lista[i*2])+' e '+str(lista[(i*2)-1]))\n",
    "            if lista[pos] < lista[i*2] or lista[pos] < lista[(i*2)-1]:\n",
    "                change = True\n",
    "                if lista[i*2] > lista[(i*2)-1]:\n",
    "                    lista[i*2], lista[pos] = lista[pos], lista[i*2]\n",
    "                else:\n",
    "                    lista[(i*2)-1], lista[pos] = lista[pos], lista[(i*2)-1]\n",
    "        elif (i*2)-1<len(lista):\n",
    "            #print('comp: pai = '+str(lista[pos])+'filho: '+str(lista[(i*2)-1]))\n",
    "            if lista[(i*2)-1] > lista[pos]:\n",
    "                change = True\n",
    "                lista[(i*2)-1], lista[pos] = lista[pos], lista[(i*2)-1]\n",
    "        i+=1\n",
    "    if change:\n",
    "        return build_max_heap(lista)\n",
    "    return lista\n",
    "\n",
    "def heap_sort(heap, s_lista = []):\n",
    "    heap = build_max_heap(heap)\n",
    "    print(heap)\n",
    "    heap[0], heap[len(heap)-1] = heap[len(heap)-1], heap[0]\n",
    "    s_lista = [heap[len(heap)-1]]+s_lista\n",
    "    heap.remove(heap[len(heap)-1])\n",
    "    if len(heap) == 1:\n",
    "        s_lista = [heap[0]]+s_lista\n",
    "        return s_lista\n",
    "    return heap_sort(heap, s_lista)\n",
    "\n",
    "lista = [5,6,7,9,8,4,3,2,0,1, 98, 37]\n",
    "heap_sort(lista)\n",
    "#print(heap)"
   ]
  }
 ],
 "metadata": {
  "kernelspec": {
   "display_name": "Python 3",
   "language": "python",
   "name": "python3"
  },
  "language_info": {
   "codemirror_mode": {
    "name": "ipython",
    "version": 3
   },
   "file_extension": ".py",
   "mimetype": "text/x-python",
   "name": "python",
   "nbconvert_exporter": "python",
   "pygments_lexer": "ipython3",
   "version": "3.7.4"
  }
 },
 "nbformat": 4,
 "nbformat_minor": 2
}
